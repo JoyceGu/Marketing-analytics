{
 "cells": [
  {
   "cell_type": "markdown",
   "metadata": {},
   "source": [
    "# Shopping Flag and Probability model"
   ]
  },
  {
   "cell_type": "markdown",
   "metadata": {},
   "source": [
    "### Preprocessing Data"
   ]
  },
  {
   "cell_type": "code",
   "execution_count": null,
   "metadata": {},
   "outputs": [],
   "source": [
    "import pandas as pd\n",
    "import numpy as np"
   ]
  },
  {
   "cell_type": "code",
   "execution_count": null,
   "metadata": {},
   "outputs": [],
   "source": [
    "data=pd.read_csv('Preprocessing.csv')\n",
    "data.head()"
   ]
  },
  {
   "cell_type": "code",
   "execution_count": null,
   "metadata": {},
   "outputs": [],
   "source": [
    "data_origin= pd.get_dummies(data)\n",
    "data_origin.head()\n",
    "#transfer "
   ]
  },
  {
   "cell_type": "code",
   "execution_count": null,
   "metadata": {},
   "outputs": [],
   "source": [
    "from sklearn,preprocessing import Imputer\n",
    "data[data='?']=np.nan # convert '?' to NaN\n",
    "print(data.isnull().sum()) # the number of NaN\n",
    "#impute missing data"
   ]
  },
  {
   "cell_type": "markdown",
   "metadata": {},
   "source": [
    "### Analysis"
   ]
  },
  {
   "cell_type": "code",
   "execution_count": null,
   "metadata": {},
   "outputs": [],
   "source": [
    "Customer= pd.read_csv('Logistics.csv')\n",
    "Customer.head()\n",
    "# 1-FEMALE, 2-MALE, 3-UNKNOWN"
   ]
  },
  {
   "cell_type": "code",
   "execution_count": null,
   "metadata": {},
   "outputs": [],
   "source": [
    "Customer.info() #show lost value of attribute"
   ]
  },
  {
   "cell_type": "code",
   "execution_count": null,
   "metadata": {},
   "outputs": [],
   "source": [
    "Customer.describe()"
   ]
  },
  {
   "cell_type": "code",
   "execution_count": null,
   "metadata": {},
   "outputs": [],
   "source": [
    "import matplotlib.pyplot as plt\n",
    "fig=plt.figure()\n",
    "fig.set(alpha = 0.2) # set fiture color\n",
    "\n",
    "Customer.next_12mo_buyer_flg.value_counts().plot(kind=\"bar\")\n",
    "plt.title('Buyer_Flag in 12 months')\n",
    "#next 12 month buyer_flag"
   ]
  },
  {
   "cell_type": "code",
   "execution_count": null,
   "metadata": {},
   "outputs": [],
   "source": [
    "plt.subplot2grid((2,3),(0,0))\n",
    "plt.hist(Customer.NTH_ORDER, bins=100, color='red')\n",
    "plt.title('Nth Order')\n",
    "plt.ylabel('Amount')\n",
    "plt.xlim(0,50)\n",
    "# Nth Order\n",
    "\n",
    "plt.subplot2grid((2,3),(0,1),colspan=2)\n",
    "plt.hist(Customer.TENURE_IN_DAYS, bins=20, edgecolor='None', color='green')\n",
    "plt.title('Tenure')\n",
    "# Tenure in days\n",
    "\n",
    "plt.subplot2grid((2,3),(1,0))\n",
    "plt.scatter(Customer.next_12mo_buyer_flg, Customer.LIFETIME_REVENUE, color='orange')\n",
    "plt.title('Lifetime Revenue')\n",
    "# Lifetime Revenue\n",
    "\n",
    "plt.subplot2grid((2,3),(1,1))\n",
    "plt.scatter(Customer.next_12mo_buyer_flg, Customer.AVG_LAG)\n",
    "plt.title('Average Lag')\n",
    "# Average Lag\n",
    "\n",
    "plt.subplot2grid((2,3),(1,2))\n",
    "plt.scatter(Customer.next_12mo_buyer_flg, Customer.DPT, color='purple')\n",
    "plt.title('DPT')\n",
    "# Dollar per transaction"
   ]
  },
  {
   "cell_type": "code",
   "execution_count": null,
   "metadata": {},
   "outputs": [],
   "source": [
    "Customer.UPT[Customer.GENDER == 1].plot(kind='kde')   \n",
    "Customer.UPT[Customer.GENDER == 2].plot(kind='kde')\n",
    "Customer.UPT[Customer.GENDER == 0].plot(kind='kde')\n",
    "plt.xlabel('UPT')\n",
    "plt.ylabel('Condensity')\n",
    "plt.legend(('FEMALE','MALE','UNKNOWN'))\n",
    "# UPT with gender"
   ]
  },
  {
   "cell_type": "markdown",
   "metadata": {},
   "source": [
    "### Logistic Regression Model"
   ]
  },
  {
   "cell_type": "code",
   "execution_count": null,
   "metadata": {
    "scrolled": true
   },
   "outputs": [],
   "source": [
    "Customer_L = pd.read_csv('Logistics.csv')\n",
    "Customer_L.head()"
   ]
  },
  {
   "cell_type": "code",
   "execution_count": null,
   "metadata": {},
   "outputs": [],
   "source": [
    "Customer_L.set_index('CUSTOMER_DIM_ID', inplace=True)\n",
    "Customer_L.head()"
   ]
  },
  {
   "cell_type": "code",
   "execution_count": null,
   "metadata": {},
   "outputs": [],
   "source": [
    "Customer_L=pd.DataFrame(Customer_L)\n",
    "y_L=Customer_L['next_12mo_buyer_flg']\n",
    "X_L=Customer_L.drop('next_12mo_buyer_flg', axis=1)"
   ]
  },
  {
   "cell_type": "code",
   "execution_count": null,
   "metadata": {},
   "outputs": [],
   "source": [
    "from sklearn.linear_model import LogisticRegression\n",
    "from sklearn.model_selection import train_test_split\n",
    "\n",
    "X_train_L, X_test_L, y_train_L, y_test_L = train_test_split(X_L, y_L, test_size=0.2, random_state = 42)\n",
    "logreg = LogisticRegression()\n",
    "logreg.fit(X_train_L, y_train_L)\n",
    "y_pred_L = logreg.predict(X_test_L)\n",
    "y_pred_proba_L = logreg.predict_proba(X_test_L)"
   ]
  },
  {
   "cell_type": "code",
   "execution_count": null,
   "metadata": {},
   "outputs": [],
   "source": [
    "\n",
    "X_test_L=pd.DataFrame(X_test_L)\n",
    "result_L=pd.DataFrame(y_pred_proba_L)\n",
    "result_L.columns = ['flag = 0', 'flag = 1']\n",
    "result_L.index=X_test_L.index\n",
    "df_out = pd.concat([X_test_L,result_L], axis=1)\n",
    "df_out=df_out.sort_values(by='flag = 1')"
   ]
  },
  {
   "cell_type": "code",
   "execution_count": null,
   "metadata": {},
   "outputs": [],
   "source": [
    "df_out.head()"
   ]
  },
  {
   "cell_type": "code",
   "execution_count": null,
   "metadata": {},
   "outputs": [],
   "source": [
    "df_out.to_csv(\"Logistics_predictions.csv\")"
   ]
  },
  {
   "cell_type": "code",
   "execution_count": null,
   "metadata": {},
   "outputs": [],
   "source": [
    "logreg.score(X_test_L, y_test_L)"
   ]
  },
  {
   "cell_type": "markdown",
   "metadata": {},
   "source": [
    "#### ROC Curve - Threshold"
   ]
  },
  {
   "cell_type": "code",
   "execution_count": null,
   "metadata": {},
   "outputs": [],
   "source": [
    "from sklearn.metrics import roc_curve\n",
    "y_pred_proba_L = logreg.predict_proba(X_test_L)[:,1]\n",
    "fpr, tpr, thresholds = roc_curve(y_test_L, y_pred_proba_L)"
   ]
  },
  {
   "cell_type": "code",
   "execution_count": null,
   "metadata": {},
   "outputs": [],
   "source": [
    "plt.plot([0,1], [0,1], 'k--')\n",
    "plt.plot(fpr, tpr, label = 'Logistic Regression')\n",
    "plt.xlabel('False Positive Rate')\n",
    "plt.ylabel('True Positive Rate')\n",
    "plt.title('Logistic Regression ROC Curve')\n",
    "plt.show()"
   ]
  },
  {
   "cell_type": "code",
   "execution_count": null,
   "metadata": {},
   "outputs": [],
   "source": [
    "from sklearn.metrics import roc_auc_score\n",
    "roc_auc_score(y_test_L, y_pred_proba_L)\n",
    "# Larger area under ROC curve = better model"
   ]
  },
  {
   "cell_type": "code",
   "execution_count": null,
   "metadata": {},
   "outputs": [],
   "source": [
    "from sklearn.linear_model import LogisticRegression\n",
    "from sklearn.metrics import confusion_matrix, classification_report\n",
    "\n",
    "print(confusion_matrix(y_test_L, y_pred_L))\n",
    "print(classification_report(y_test_L, y_pred_L))\n",
    "\n",
    "# precision = TP/(TP+FP)\n",
    "# recall=TP/(TP+FN)\n",
    "\n",
    "\n",
    "# precision - fraction of retrieved instances that are relevant\n",
    "# recall - fraction of relevant instances that are retrieved\n",
    "# F1 score - measure of a test's accuracy\n",
    "# support - count of testes samples"
   ]
  },
  {
   "cell_type": "markdown",
   "metadata": {},
   "source": [
    "### K-Nearest Neighbors Model"
   ]
  },
  {
   "cell_type": "code",
   "execution_count": null,
   "metadata": {},
   "outputs": [],
   "source": [
    "Customer_K = pd.read_csv('K-Nearest Neighbors.csv', index_col=0)\n",
    "Customer_K.head()\n",
    "\n",
    "y_K=Customer_K['next_12mo_buyer_flg'].values\n",
    "X_K=Customer_K.drop('next_12mo_buyer_flg', axis=1).values"
   ]
  },
  {
   "cell_type": "code",
   "execution_count": null,
   "metadata": {
    "scrolled": true
   },
   "outputs": [],
   "source": [
    "from sklearn.neighbors import KNeighborsClassifier\n",
    "from sklearn.model_selection import train_test_split\n",
    "\n",
    "X_train_K, X_test_K, y_train_K, y_test_K= train_test_split(X_K, y_K, test_size=0.2, random_state=42, stratify=y_K) \n",
    "knn=KNeighborsClassifier(n_neighbors=4)\n",
    "knn.fit(X_train_K, y_train_K)\n",
    "knn.score(X_test_K, y_test_K)"
   ]
  },
  {
   "cell_type": "code",
   "execution_count": null,
   "metadata": {},
   "outputs": [],
   "source": [
    "y_pred=knn.predict(X_test_K)\n",
    "print(\"prediction:{}\".format(y_pred))"
   ]
  },
  {
   "cell_type": "code",
   "execution_count": null,
   "metadata": {},
   "outputs": [],
   "source": [
    "y_pred_proba=knn.predict_proba(X_test_K)\n",
    "print(\"prediction:{}\".format(y_pred_proba))\n",
    "result_K=DataFrame(y_pred_proba)\n",
    "result_K.columns = ['flag = 0', 'flag = 1']\n",
    "result_K.to_csv(\"KNeighbors_predictions_test.csv\", index=False) \n",
    "#Export file"
   ]
  },
  {
   "cell_type": "markdown",
   "metadata": {},
   "source": [
    "### Linear Regression Model"
   ]
  },
  {
   "cell_type": "code",
   "execution_count": null,
   "metadata": {},
   "outputs": [],
   "source": [
    "from sklearn.linear_model import LinearRegression\n",
    "from sklearn.model_selection import train_test_split\n",
    "from sklearn.metrics import mean_squared_error\n",
    "\n",
    "y=Customer_K['next_12mo_buyer_flg'].values\n",
    "X=Customer_K.drop('next_12mo_buyer_flg', axis=1).values\n",
    "\n",
    "X_train, X_test, y_train, y_test= train_test_split(X, y, test_size=0.2, random_state=42, stratify=y) \n",
    "reg_all = LinearRegression()\n",
    "reg_all.fit(X_train, y_train)\n",
    "y_pred = reg_all.predict(X_test)"
   ]
  },
  {
   "cell_type": "code",
   "execution_count": null,
   "metadata": {},
   "outputs": [],
   "source": [
    "reg_all.score(X_test, y_test)"
   ]
  },
  {
   "cell_type": "markdown",
   "metadata": {},
   "source": [
    "#### 5-fold cross-validation"
   ]
  },
  {
   "cell_type": "code",
   "execution_count": null,
   "metadata": {},
   "outputs": [],
   "source": [
    "from sklearn.model_selection import cross_val_score\n",
    "cv_scores = cross_val_score(reg_all, X_test, y_test, cv=5)\n",
    "cv_scores"
   ]
  }
 ],
 "metadata": {
  "kernelspec": {
   "display_name": "Python 3",
   "language": "python",
   "name": "python3"
  },
  "language_info": {
   "codemirror_mode": {
    "name": "ipython",
    "version": 3
   },
   "file_extension": ".py",
   "mimetype": "text/x-python",
   "name": "python",
   "nbconvert_exporter": "python",
   "pygments_lexer": "ipython3",
   "version": "3.6.4"
  }
 },
 "nbformat": 4,
 "nbformat_minor": 2
}
